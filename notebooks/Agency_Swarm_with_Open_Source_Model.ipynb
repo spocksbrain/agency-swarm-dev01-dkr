{
 "nbformat": 4,
 "nbformat_minor": 0,
 "metadata": {
  "colab": {
   "provenance": []
  },
  "kernelspec": {
   "name": "python3",
   "display_name": "Python 3 (ipykernel)",
   "language": "python"
  },
  "language_info": {
   "name": "python"
  }
 },
 "cells": [
  {
   "cell_type": "code",
   "metadata": {
    "colab": {
     "base_uri": "https://localhost:8080/"
    },
    "id": "kgFdcp7fuQwO",
    "outputId": "61831af6-377d-492e-a1c4-91ebae2c1145",
    "ExecuteTime": {
     "end_time": "2024-04-18T04:42:43.224124Z",
     "start_time": "2024-04-18T04:42:27.975659Z"
    }
   },
   "source": [
    "!pip install agency-swarm streaming_assistants gradio"
   ],
   "outputs": [
    {
     "name": "stdout",
     "output_type": "stream",
     "text": [
      "Requirement already satisfied: agency-swarm in /Users/vrsen/Projects/agency-swarm/agency-swarm (0.1.7)\r\n",
      "Collecting streaming_assistants\r\n",
      "  Downloading streaming_assistants-0.15.8-py3-none-any.whl.metadata (1.7 kB)\r\n",
      "Requirement already satisfied: gradio in /Users/vrsen/anaconda3/envs/agency-swarm/lib/python3.10/site-packages (4.21.0)\r\n",
      "Requirement already satisfied: openai==1.14.2 in /Users/vrsen/anaconda3/envs/agency-swarm/lib/python3.10/site-packages (from agency-swarm) (1.14.2)\r\n",
      "Requirement already satisfied: instructor==0.6.7 in /Users/vrsen/anaconda3/envs/agency-swarm/lib/python3.10/site-packages (from agency-swarm) (0.6.7)\r\n",
      "Requirement already satisfied: deepdiff==6.7.1 in /Users/vrsen/anaconda3/envs/agency-swarm/lib/python3.10/site-packages (from agency-swarm) (6.7.1)\r\n",
      "Requirement already satisfied: termcolor==2.3.0 in /Users/vrsen/anaconda3/envs/agency-swarm/lib/python3.10/site-packages (from agency-swarm) (2.3.0)\r\n",
      "Requirement already satisfied: python-dotenv==1.0.0 in /Users/vrsen/anaconda3/envs/agency-swarm/lib/python3.10/site-packages (from agency-swarm) (1.0.0)\r\n",
      "Requirement already satisfied: rich==13.7.0 in /Users/vrsen/anaconda3/envs/agency-swarm/lib/python3.10/site-packages (from agency-swarm) (13.7.0)\r\n",
      "Requirement already satisfied: jsonref==1.1.0 in /Users/vrsen/anaconda3/envs/agency-swarm/lib/python3.10/site-packages (from agency-swarm) (1.1.0)\r\n",
      "Requirement already satisfied: ordered-set<4.2.0,>=4.0.2 in /Users/vrsen/anaconda3/envs/agency-swarm/lib/python3.10/site-packages (from deepdiff==6.7.1->agency-swarm) (4.1.0)\r\n",
      "Requirement already satisfied: aiohttp<4.0.0,>=3.9.1 in /Users/vrsen/anaconda3/envs/agency-swarm/lib/python3.10/site-packages (from instructor==0.6.7->agency-swarm) (3.9.3)\r\n",
      "Requirement already satisfied: docstring-parser<0.16,>=0.15 in /Users/vrsen/anaconda3/envs/agency-swarm/lib/python3.10/site-packages (from instructor==0.6.7->agency-swarm) (0.15)\r\n",
      "Requirement already satisfied: pydantic<3.0.0,>=2.0.2 in /Users/vrsen/anaconda3/envs/agency-swarm/lib/python3.10/site-packages (from instructor==0.6.7->agency-swarm) (2.6.1)\r\n",
      "Requirement already satisfied: tenacity<9.0.0,>=8.2.3 in /Users/vrsen/anaconda3/envs/agency-swarm/lib/python3.10/site-packages (from instructor==0.6.7->agency-swarm) (8.2.3)\r\n",
      "Requirement already satisfied: typer<0.10.0,>=0.9.0 in /Users/vrsen/anaconda3/envs/agency-swarm/lib/python3.10/site-packages (from instructor==0.6.7->agency-swarm) (0.9.0)\r\n",
      "Requirement already satisfied: anyio<5,>=3.5.0 in /Users/vrsen/anaconda3/envs/agency-swarm/lib/python3.10/site-packages (from openai==1.14.2->agency-swarm) (3.7.1)\r\n",
      "Requirement already satisfied: distro<2,>=1.7.0 in /Users/vrsen/anaconda3/envs/agency-swarm/lib/python3.10/site-packages (from openai==1.14.2->agency-swarm) (1.9.0)\r\n",
      "Requirement already satisfied: httpx<1,>=0.23.0 in /Users/vrsen/anaconda3/envs/agency-swarm/lib/python3.10/site-packages (from openai==1.14.2->agency-swarm) (0.27.0)\r\n",
      "Requirement already satisfied: sniffio in /Users/vrsen/anaconda3/envs/agency-swarm/lib/python3.10/site-packages (from openai==1.14.2->agency-swarm) (1.3.0)\r\n",
      "Requirement already satisfied: tqdm>4 in /Users/vrsen/anaconda3/envs/agency-swarm/lib/python3.10/site-packages (from openai==1.14.2->agency-swarm) (4.66.2)\r\n",
      "Requirement already satisfied: typing-extensions<5,>=4.7 in /Users/vrsen/anaconda3/envs/agency-swarm/lib/python3.10/site-packages (from openai==1.14.2->agency-swarm) (4.9.0)\r\n",
      "Requirement already satisfied: markdown-it-py>=2.2.0 in /Users/vrsen/anaconda3/envs/agency-swarm/lib/python3.10/site-packages (from rich==13.7.0->agency-swarm) (3.0.0)\r\n",
      "Requirement already satisfied: pygments<3.0.0,>=2.13.0 in /Users/vrsen/anaconda3/envs/agency-swarm/lib/python3.10/site-packages (from rich==13.7.0->agency-swarm) (2.15.1)\r\n",
      "Collecting boto3<2.0.0,>=1.34.31 (from streaming_assistants)\r\n",
      "  Downloading boto3-1.34.86-py3-none-any.whl.metadata (6.6 kB)\r\n",
      "Collecting google-generativeai<0.5.0,>=0.4.1 (from streaming_assistants)\r\n",
      "  Downloading google_generativeai-0.4.1-py3-none-any.whl.metadata (6.2 kB)\r\n",
      "Collecting httpx<1,>=0.23.0 (from openai==1.14.2->agency-swarm)\r\n",
      "  Using cached httpx-0.26.0-py3-none-any.whl.metadata (7.6 kB)\r\n",
      "Collecting litellm<2.0.0,>=1.34.18 (from streaming_assistants)\r\n",
      "  Downloading litellm-1.35.12-py3-none-any.whl.metadata (25 kB)\r\n",
      "Requirement already satisfied: aiofiles<24.0,>=22.0 in /Users/vrsen/anaconda3/envs/agency-swarm/lib/python3.10/site-packages (from gradio) (23.2.1)\r\n",
      "Requirement already satisfied: altair<6.0,>=4.2.0 in /Users/vrsen/anaconda3/envs/agency-swarm/lib/python3.10/site-packages (from gradio) (5.2.0)\r\n",
      "Requirement already satisfied: fastapi in /Users/vrsen/anaconda3/envs/agency-swarm/lib/python3.10/site-packages (from gradio) (0.110.0)\r\n",
      "Requirement already satisfied: ffmpy in /Users/vrsen/anaconda3/envs/agency-swarm/lib/python3.10/site-packages (from gradio) (0.3.2)\r\n",
      "Requirement already satisfied: gradio-client==0.12.0 in /Users/vrsen/anaconda3/envs/agency-swarm/lib/python3.10/site-packages (from gradio) (0.12.0)\r\n",
      "Requirement already satisfied: huggingface-hub>=0.19.3 in /Users/vrsen/anaconda3/envs/agency-swarm/lib/python3.10/site-packages (from gradio) (0.21.4)\r\n",
      "Requirement already satisfied: importlib-resources<7.0,>=1.3 in /Users/vrsen/anaconda3/envs/agency-swarm/lib/python3.10/site-packages (from gradio) (6.3.1)\r\n",
      "Requirement already satisfied: jinja2<4.0 in /Users/vrsen/anaconda3/envs/agency-swarm/lib/python3.10/site-packages (from gradio) (3.1.3)\r\n",
      "Requirement already satisfied: markupsafe~=2.0 in /Users/vrsen/anaconda3/envs/agency-swarm/lib/python3.10/site-packages (from gradio) (2.1.3)\r\n",
      "Requirement already satisfied: matplotlib~=3.0 in /Users/vrsen/anaconda3/envs/agency-swarm/lib/python3.10/site-packages (from gradio) (3.8.3)\r\n",
      "Requirement already satisfied: numpy~=1.0 in /Users/vrsen/anaconda3/envs/agency-swarm/lib/python3.10/site-packages (from gradio) (1.26.4)\r\n",
      "Requirement already satisfied: orjson~=3.0 in /Users/vrsen/anaconda3/envs/agency-swarm/lib/python3.10/site-packages (from gradio) (3.9.10)\r\n",
      "Requirement already satisfied: packaging in /Users/vrsen/anaconda3/envs/agency-swarm/lib/python3.10/site-packages (from gradio) (23.1)\r\n",
      "Requirement already satisfied: pandas<3.0,>=1.0 in /Users/vrsen/anaconda3/envs/agency-swarm/lib/python3.10/site-packages (from gradio) (2.2.1)\r\n",
      "Requirement already satisfied: pillow<11.0,>=8.0 in /Users/vrsen/anaconda3/envs/agency-swarm/lib/python3.10/site-packages (from gradio) (10.2.0)\r\n",
      "Requirement already satisfied: pydub in /Users/vrsen/anaconda3/envs/agency-swarm/lib/python3.10/site-packages (from gradio) (0.25.1)\r\n",
      "Requirement already satisfied: python-multipart>=0.0.9 in /Users/vrsen/anaconda3/envs/agency-swarm/lib/python3.10/site-packages (from gradio) (0.0.9)\r\n",
      "Requirement already satisfied: pyyaml<7.0,>=5.0 in /Users/vrsen/anaconda3/envs/agency-swarm/lib/python3.10/site-packages (from gradio) (6.0.1)\r\n",
      "Requirement already satisfied: ruff>=0.2.2 in /Users/vrsen/anaconda3/envs/agency-swarm/lib/python3.10/site-packages (from gradio) (0.3.3)\r\n",
      "Requirement already satisfied: semantic-version~=2.0 in /Users/vrsen/anaconda3/envs/agency-swarm/lib/python3.10/site-packages (from gradio) (2.10.0)\r\n",
      "Requirement already satisfied: tomlkit==0.12.0 in /Users/vrsen/anaconda3/envs/agency-swarm/lib/python3.10/site-packages (from gradio) (0.12.0)\r\n",
      "Requirement already satisfied: uvicorn>=0.14.0 in /Users/vrsen/anaconda3/envs/agency-swarm/lib/python3.10/site-packages (from gradio) (0.28.0)\r\n",
      "Requirement already satisfied: fsspec in /Users/vrsen/anaconda3/envs/agency-swarm/lib/python3.10/site-packages (from gradio-client==0.12.0->gradio) (2024.3.1)\r\n",
      "Requirement already satisfied: websockets<12.0,>=10.0 in /Users/vrsen/anaconda3/envs/agency-swarm/lib/python3.10/site-packages (from gradio-client==0.12.0->gradio) (11.0.3)\r\n",
      "Requirement already satisfied: jsonschema>=3.0 in /Users/vrsen/anaconda3/envs/agency-swarm/lib/python3.10/site-packages (from altair<6.0,>=4.2.0->gradio) (4.19.2)\r\n",
      "Requirement already satisfied: toolz in /Users/vrsen/anaconda3/envs/agency-swarm/lib/python3.10/site-packages (from altair<6.0,>=4.2.0->gradio) (0.12.1)\r\n",
      "Collecting botocore<1.35.0,>=1.34.86 (from boto3<2.0.0,>=1.34.31->streaming_assistants)\r\n",
      "  Downloading botocore-1.34.86-py3-none-any.whl.metadata (5.7 kB)\r\n",
      "Collecting jmespath<2.0.0,>=0.7.1 (from boto3<2.0.0,>=1.34.31->streaming_assistants)\r\n",
      "  Downloading jmespath-1.0.1-py3-none-any.whl.metadata (7.6 kB)\r\n",
      "Collecting s3transfer<0.11.0,>=0.10.0 (from boto3<2.0.0,>=1.34.31->streaming_assistants)\r\n",
      "  Downloading s3transfer-0.10.1-py3-none-any.whl.metadata (1.7 kB)\r\n",
      "Collecting google-ai-generativelanguage==0.4.0 (from google-generativeai<0.5.0,>=0.4.1->streaming_assistants)\r\n",
      "  Downloading google_ai_generativelanguage-0.4.0-py3-none-any.whl.metadata (5.1 kB)\r\n",
      "Collecting google-auth>=2.15.0 (from google-generativeai<0.5.0,>=0.4.1->streaming_assistants)\r\n",
      "  Using cached google_auth-2.29.0-py2.py3-none-any.whl.metadata (4.7 kB)\r\n",
      "Collecting google-api-core (from google-generativeai<0.5.0,>=0.4.1->streaming_assistants)\r\n",
      "  Downloading google_api_core-2.18.0-py3-none-any.whl.metadata (2.7 kB)\r\n",
      "Collecting protobuf (from google-generativeai<0.5.0,>=0.4.1->streaming_assistants)\r\n",
      "  Downloading protobuf-5.26.1-cp37-abi3-macosx_10_9_universal2.whl.metadata (592 bytes)\r\n",
      "Collecting proto-plus<2.0.0dev,>=1.22.3 (from google-ai-generativelanguage==0.4.0->google-generativeai<0.5.0,>=0.4.1->streaming_assistants)\r\n",
      "  Using cached proto_plus-1.23.0-py3-none-any.whl.metadata (2.2 kB)\r\n",
      "Collecting protobuf (from google-generativeai<0.5.0,>=0.4.1->streaming_assistants)\r\n",
      "  Using cached protobuf-4.25.3-cp37-abi3-macosx_10_9_universal2.whl.metadata (541 bytes)\r\n",
      "Requirement already satisfied: certifi in /Users/vrsen/anaconda3/envs/agency-swarm/lib/python3.10/site-packages (from httpx<1,>=0.23.0->openai==1.14.2->agency-swarm) (2024.2.2)\r\n",
      "Requirement already satisfied: httpcore==1.* in /Users/vrsen/anaconda3/envs/agency-swarm/lib/python3.10/site-packages (from httpx<1,>=0.23.0->openai==1.14.2->agency-swarm) (1.0.4)\r\n",
      "Requirement already satisfied: idna in /Users/vrsen/anaconda3/envs/agency-swarm/lib/python3.10/site-packages (from httpx<1,>=0.23.0->openai==1.14.2->agency-swarm) (3.4)\r\n",
      "Requirement already satisfied: h11<0.15,>=0.13 in /Users/vrsen/anaconda3/envs/agency-swarm/lib/python3.10/site-packages (from httpcore==1.*->httpx<1,>=0.23.0->openai==1.14.2->agency-swarm) (0.14.0)\r\n",
      "Requirement already satisfied: filelock in /Users/vrsen/anaconda3/envs/agency-swarm/lib/python3.10/site-packages (from huggingface-hub>=0.19.3->gradio) (3.13.1)\r\n",
      "Requirement already satisfied: requests in /Users/vrsen/anaconda3/envs/agency-swarm/lib/python3.10/site-packages (from huggingface-hub>=0.19.3->gradio) (2.31.0)\r\n",
      "Requirement already satisfied: click in /Users/vrsen/anaconda3/envs/agency-swarm/lib/python3.10/site-packages (from litellm<2.0.0,>=1.34.18->streaming_assistants) (8.1.7)\r\n",
      "Collecting importlib-metadata>=6.8.0 (from litellm<2.0.0,>=1.34.18->streaming_assistants)\r\n",
      "  Downloading importlib_metadata-7.1.0-py3-none-any.whl.metadata (4.7 kB)\r\n",
      "Collecting tiktoken>=0.4.0 (from litellm<2.0.0,>=1.34.18->streaming_assistants)\r\n",
      "  Downloading tiktoken-0.6.0-cp310-cp310-macosx_11_0_arm64.whl.metadata (6.6 kB)\r\n",
      "Collecting tokenizers (from litellm<2.0.0,>=1.34.18->streaming_assistants)\r\n",
      "  Downloading tokenizers-0.19.1-cp310-cp310-macosx_11_0_arm64.whl.metadata (6.7 kB)\r\n",
      "Requirement already satisfied: contourpy>=1.0.1 in /Users/vrsen/anaconda3/envs/agency-swarm/lib/python3.10/site-packages (from matplotlib~=3.0->gradio) (1.2.0)\r\n",
      "Requirement already satisfied: cycler>=0.10 in /Users/vrsen/anaconda3/envs/agency-swarm/lib/python3.10/site-packages (from matplotlib~=3.0->gradio) (0.12.1)\r\n",
      "Requirement already satisfied: fonttools>=4.22.0 in /Users/vrsen/anaconda3/envs/agency-swarm/lib/python3.10/site-packages (from matplotlib~=3.0->gradio) (4.50.0)\r\n",
      "Requirement already satisfied: kiwisolver>=1.3.1 in /Users/vrsen/anaconda3/envs/agency-swarm/lib/python3.10/site-packages (from matplotlib~=3.0->gradio) (1.4.5)\r\n",
      "Requirement already satisfied: pyparsing>=2.3.1 in /Users/vrsen/anaconda3/envs/agency-swarm/lib/python3.10/site-packages (from matplotlib~=3.0->gradio) (3.1.2)\r\n",
      "Requirement already satisfied: python-dateutil>=2.7 in /Users/vrsen/anaconda3/envs/agency-swarm/lib/python3.10/site-packages (from matplotlib~=3.0->gradio) (2.8.2)\r\n",
      "Requirement already satisfied: pytz>=2020.1 in /Users/vrsen/anaconda3/envs/agency-swarm/lib/python3.10/site-packages (from pandas<3.0,>=1.0->gradio) (2023.3.post1)\r\n",
      "Requirement already satisfied: tzdata>=2022.7 in /Users/vrsen/anaconda3/envs/agency-swarm/lib/python3.10/site-packages (from pandas<3.0,>=1.0->gradio) (2024.1)\r\n",
      "Requirement already satisfied: annotated-types>=0.4.0 in /Users/vrsen/anaconda3/envs/agency-swarm/lib/python3.10/site-packages (from pydantic<3.0.0,>=2.0.2->instructor==0.6.7->agency-swarm) (0.6.0)\r\n",
      "Requirement already satisfied: pydantic-core==2.16.2 in /Users/vrsen/anaconda3/envs/agency-swarm/lib/python3.10/site-packages (from pydantic<3.0.0,>=2.0.2->instructor==0.6.7->agency-swarm) (2.16.2)\r\n",
      "Requirement already satisfied: colorama<0.5.0,>=0.4.3 in /Users/vrsen/anaconda3/envs/agency-swarm/lib/python3.10/site-packages (from typer[all]<1.0,>=0.9->gradio) (0.4.6)\r\n",
      "Requirement already satisfied: shellingham<2.0.0,>=1.3.0 in /Users/vrsen/anaconda3/envs/agency-swarm/lib/python3.10/site-packages (from typer[all]<1.0,>=0.9->gradio) (1.5.4)\r\n",
      "Requirement already satisfied: starlette<0.37.0,>=0.36.3 in /Users/vrsen/anaconda3/envs/agency-swarm/lib/python3.10/site-packages (from fastapi->gradio) (0.36.3)\r\n",
      "Requirement already satisfied: aiosignal>=1.1.2 in /Users/vrsen/anaconda3/envs/agency-swarm/lib/python3.10/site-packages (from aiohttp<4.0.0,>=3.9.1->instructor==0.6.7->agency-swarm) (1.3.1)\r\n",
      "Requirement already satisfied: attrs>=17.3.0 in /Users/vrsen/anaconda3/envs/agency-swarm/lib/python3.10/site-packages (from aiohttp<4.0.0,>=3.9.1->instructor==0.6.7->agency-swarm) (23.2.0)\r\n",
      "Requirement already satisfied: frozenlist>=1.1.1 in /Users/vrsen/anaconda3/envs/agency-swarm/lib/python3.10/site-packages (from aiohttp<4.0.0,>=3.9.1->instructor==0.6.7->agency-swarm) (1.4.1)\r\n",
      "Requirement already satisfied: multidict<7.0,>=4.5 in /Users/vrsen/anaconda3/envs/agency-swarm/lib/python3.10/site-packages (from aiohttp<4.0.0,>=3.9.1->instructor==0.6.7->agency-swarm) (6.0.5)\r\n",
      "Requirement already satisfied: yarl<2.0,>=1.0 in /Users/vrsen/anaconda3/envs/agency-swarm/lib/python3.10/site-packages (from aiohttp<4.0.0,>=3.9.1->instructor==0.6.7->agency-swarm) (1.9.4)\r\n",
      "Requirement already satisfied: async-timeout<5.0,>=4.0 in /Users/vrsen/anaconda3/envs/agency-swarm/lib/python3.10/site-packages (from aiohttp<4.0.0,>=3.9.1->instructor==0.6.7->agency-swarm) (4.0.3)\r\n",
      "Requirement already satisfied: exceptiongroup in /Users/vrsen/anaconda3/envs/agency-swarm/lib/python3.10/site-packages (from anyio<5,>=3.5.0->openai==1.14.2->agency-swarm) (1.2.0)\r\n",
      "Requirement already satisfied: urllib3!=2.2.0,<3,>=1.25.4 in /Users/vrsen/anaconda3/envs/agency-swarm/lib/python3.10/site-packages (from botocore<1.35.0,>=1.34.86->boto3<2.0.0,>=1.34.31->streaming_assistants) (2.1.0)\r\n",
      "Collecting googleapis-common-protos<2.0.dev0,>=1.56.2 (from google-api-core->google-generativeai<0.5.0,>=0.4.1->streaming_assistants)\r\n",
      "  Downloading googleapis_common_protos-1.63.0-py2.py3-none-any.whl.metadata (1.5 kB)\r\n",
      "Collecting cachetools<6.0,>=2.0.0 (from google-auth>=2.15.0->google-generativeai<0.5.0,>=0.4.1->streaming_assistants)\r\n",
      "  Using cached cachetools-5.3.3-py3-none-any.whl.metadata (5.3 kB)\r\n",
      "Collecting pyasn1-modules>=0.2.1 (from google-auth>=2.15.0->google-generativeai<0.5.0,>=0.4.1->streaming_assistants)\r\n",
      "  Downloading pyasn1_modules-0.4.0-py3-none-any.whl.metadata (3.4 kB)\r\n",
      "Collecting rsa<5,>=3.1.4 (from google-auth>=2.15.0->google-generativeai<0.5.0,>=0.4.1->streaming_assistants)\r\n",
      "  Using cached rsa-4.9-py3-none-any.whl.metadata (4.2 kB)\r\n",
      "Collecting zipp>=0.5 (from importlib-metadata>=6.8.0->litellm<2.0.0,>=1.34.18->streaming_assistants)\r\n",
      "  Downloading zipp-3.18.1-py3-none-any.whl.metadata (3.5 kB)\r\n",
      "Requirement already satisfied: jsonschema-specifications>=2023.03.6 in /Users/vrsen/anaconda3/envs/agency-swarm/lib/python3.10/site-packages (from jsonschema>=3.0->altair<6.0,>=4.2.0->gradio) (2023.12.1)\r\n",
      "Requirement already satisfied: referencing>=0.28.4 in /Users/vrsen/anaconda3/envs/agency-swarm/lib/python3.10/site-packages (from jsonschema>=3.0->altair<6.0,>=4.2.0->gradio) (0.33.0)\r\n",
      "Requirement already satisfied: rpds-py>=0.7.1 in /Users/vrsen/anaconda3/envs/agency-swarm/lib/python3.10/site-packages (from jsonschema>=3.0->altair<6.0,>=4.2.0->gradio) (0.10.6)\r\n",
      "Requirement already satisfied: mdurl~=0.1 in /Users/vrsen/anaconda3/envs/agency-swarm/lib/python3.10/site-packages (from markdown-it-py>=2.2.0->rich==13.7.0->agency-swarm) (0.1.2)\r\n",
      "Requirement already satisfied: six>=1.5 in /Users/vrsen/anaconda3/envs/agency-swarm/lib/python3.10/site-packages (from python-dateutil>=2.7->matplotlib~=3.0->gradio) (1.16.0)\r\n",
      "Requirement already satisfied: charset-normalizer<4,>=2 in /Users/vrsen/anaconda3/envs/agency-swarm/lib/python3.10/site-packages (from requests->huggingface-hub>=0.19.3->gradio) (2.0.4)\r\n",
      "Requirement already satisfied: regex>=2022.1.18 in /Users/vrsen/anaconda3/envs/agency-swarm/lib/python3.10/site-packages (from tiktoken>=0.4.0->litellm<2.0.0,>=1.34.18->streaming_assistants) (2023.12.25)\r\n",
      "Collecting grpcio<2.0dev,>=1.33.2 (from google-api-core[grpc]!=2.0.*,!=2.1.*,!=2.10.*,!=2.2.*,!=2.3.*,!=2.4.*,!=2.5.*,!=2.6.*,!=2.7.*,!=2.8.*,!=2.9.*,<3.0.0dev,>=1.34.0->google-ai-generativelanguage==0.4.0->google-generativeai<0.5.0,>=0.4.1->streaming_assistants)\r\n",
      "  Downloading grpcio-1.62.1-cp310-cp310-macosx_12_0_universal2.whl.metadata (4.0 kB)\r\n",
      "Collecting grpcio-status<2.0.dev0,>=1.33.2 (from google-api-core[grpc]!=2.0.*,!=2.1.*,!=2.10.*,!=2.2.*,!=2.3.*,!=2.4.*,!=2.5.*,!=2.6.*,!=2.7.*,!=2.8.*,!=2.9.*,<3.0.0dev,>=1.34.0->google-ai-generativelanguage==0.4.0->google-generativeai<0.5.0,>=0.4.1->streaming_assistants)\r\n",
      "  Downloading grpcio_status-1.62.1-py3-none-any.whl.metadata (1.3 kB)\r\n",
      "Collecting pyasn1<0.7.0,>=0.4.6 (from pyasn1-modules>=0.2.1->google-auth>=2.15.0->google-generativeai<0.5.0,>=0.4.1->streaming_assistants)\r\n",
      "  Downloading pyasn1-0.6.0-py2.py3-none-any.whl.metadata (8.3 kB)\r\n",
      "Downloading streaming_assistants-0.15.8-py3-none-any.whl (6.9 kB)\r\n",
      "Downloading boto3-1.34.86-py3-none-any.whl (139 kB)\r\n",
      "\u001B[2K   \u001B[90m━━━━━━━━━━━━━━━━━━━━━━━━━━━━━━━━━━━━━━━━\u001B[0m \u001B[32m139.3/139.3 kB\u001B[0m \u001B[31m1.2 MB/s\u001B[0m eta \u001B[36m0:00:00\u001B[0ma \u001B[36m0:00:01\u001B[0m\r\n",
      "\u001B[?25hDownloading google_generativeai-0.4.1-py3-none-any.whl (137 kB)\r\n",
      "\u001B[2K   \u001B[90m━━━━━━━━━━━━━━━━━━━━━━━━━━━━━━━━━━━━━━━━\u001B[0m \u001B[32m137.4/137.4 kB\u001B[0m \u001B[31m4.2 MB/s\u001B[0m eta \u001B[36m0:00:00\u001B[0m\r\n",
      "\u001B[?25hDownloading google_ai_generativelanguage-0.4.0-py3-none-any.whl (598 kB)\r\n",
      "\u001B[2K   \u001B[90m━━━━━━━━━━━━━━━━━━━━━━━━━━━━━━━━━━━━━━━━\u001B[0m \u001B[32m598.7/598.7 kB\u001B[0m \u001B[31m5.3 MB/s\u001B[0m eta \u001B[36m0:00:00\u001B[0ma \u001B[36m0:00:01\u001B[0m\r\n",
      "\u001B[?25hUsing cached httpx-0.26.0-py3-none-any.whl (75 kB)\r\n",
      "Downloading litellm-1.35.12-py3-none-any.whl (4.2 MB)\r\n",
      "\u001B[2K   \u001B[90m━━━━━━━━━━━━━━━━━━━━━━━━━━━━━━━━━━━━━━━━\u001B[0m \u001B[32m4.2/4.2 MB\u001B[0m \u001B[31m7.3 MB/s\u001B[0m eta \u001B[36m0:00:00\u001B[0m00:01\u001B[0m00:01\u001B[0m\r\n",
      "\u001B[?25hDownloading botocore-1.34.86-py3-none-any.whl (12.1 MB)\r\n",
      "\u001B[2K   \u001B[90m━━━━━━━━━━━━━━━━━━━━━━━━━━━━━━━━━━━━━━━━\u001B[0m \u001B[32m12.1/12.1 MB\u001B[0m \u001B[31m8.3 MB/s\u001B[0m eta \u001B[36m0:00:00\u001B[0m00:01\u001B[0m00:01\u001B[0m\r\n",
      "\u001B[?25hDownloading google_api_core-2.18.0-py3-none-any.whl (138 kB)\r\n",
      "\u001B[2K   \u001B[90m━━━━━━━━━━━━━━━━━━━━━━━━━━━━━━━━━━━━━━━━\u001B[0m \u001B[32m138.3/138.3 kB\u001B[0m \u001B[31m7.2 MB/s\u001B[0m eta \u001B[36m0:00:00\u001B[0m\r\n",
      "\u001B[?25hUsing cached google_auth-2.29.0-py2.py3-none-any.whl (189 kB)\r\n",
      "Downloading importlib_metadata-7.1.0-py3-none-any.whl (24 kB)\r\n",
      "Downloading jmespath-1.0.1-py3-none-any.whl (20 kB)\r\n",
      "Using cached protobuf-4.25.3-cp37-abi3-macosx_10_9_universal2.whl (394 kB)\r\n",
      "Downloading s3transfer-0.10.1-py3-none-any.whl (82 kB)\r\n",
      "\u001B[2K   \u001B[90m━━━━━━━━━━━━━━━━━━━━━━━━━━━━━━━━━━━━━━━━\u001B[0m \u001B[32m82.2/82.2 kB\u001B[0m \u001B[31m5.7 MB/s\u001B[0m eta \u001B[36m0:00:00\u001B[0m\r\n",
      "\u001B[?25hDownloading tiktoken-0.6.0-cp310-cp310-macosx_11_0_arm64.whl (949 kB)\r\n",
      "\u001B[2K   \u001B[90m━━━━━━━━━━━━━━━━━━━━━━━━━━━━━━━━━━━━━━━━\u001B[0m \u001B[32m950.0/950.0 kB\u001B[0m \u001B[31m8.7 MB/s\u001B[0m eta \u001B[36m0:00:00\u001B[0m00:01\u001B[0m:00:01\u001B[0m\r\n",
      "\u001B[?25hDownloading tokenizers-0.19.1-cp310-cp310-macosx_11_0_arm64.whl (2.4 MB)\r\n",
      "\u001B[2K   \u001B[90m━━━━━━━━━━━━━━━━━━━━━━━━━━━━━━━━━━━━━━━━\u001B[0m \u001B[32m2.4/2.4 MB\u001B[0m \u001B[31m8.9 MB/s\u001B[0m eta \u001B[36m0:00:00\u001B[0m00:01\u001B[0m00:01\u001B[0mm\r\n",
      "\u001B[?25hUsing cached cachetools-5.3.3-py3-none-any.whl (9.3 kB)\r\n",
      "Downloading googleapis_common_protos-1.63.0-py2.py3-none-any.whl (229 kB)\r\n",
      "\u001B[2K   \u001B[90m━━━━━━━━━━━━━━━━━━━━━━━━━━━━━━━━━━━━━━━━\u001B[0m \u001B[32m229.1/229.1 kB\u001B[0m \u001B[31m8.4 MB/s\u001B[0m eta \u001B[36m0:00:00\u001B[0m\r\n",
      "\u001B[?25hUsing cached proto_plus-1.23.0-py3-none-any.whl (48 kB)\r\n",
      "Downloading pyasn1_modules-0.4.0-py3-none-any.whl (181 kB)\r\n",
      "\u001B[2K   \u001B[90m━━━━━━━━━━━━━━━━━━━━━━━━━━━━━━━━━━━━━━━━\u001B[0m \u001B[32m181.2/181.2 kB\u001B[0m \u001B[31m8.3 MB/s\u001B[0m eta \u001B[36m0:00:00\u001B[0m\r\n",
      "\u001B[?25hUsing cached rsa-4.9-py3-none-any.whl (34 kB)\r\n",
      "Downloading zipp-3.18.1-py3-none-any.whl (8.2 kB)\r\n",
      "Downloading grpcio-1.62.1-cp310-cp310-macosx_12_0_universal2.whl (10.0 MB)\r\n",
      "\u001B[2K   \u001B[90m━━━━━━━━━━━━━━━━━━━━━━━━━━━━━━━━━━━━━━━━\u001B[0m \u001B[32m10.0/10.0 MB\u001B[0m \u001B[31m8.9 MB/s\u001B[0m eta \u001B[36m0:00:00\u001B[0m0:01\u001B[0m00:01\u001B[0mm\r\n",
      "\u001B[?25hDownloading grpcio_status-1.62.1-py3-none-any.whl (14 kB)\r\n",
      "Downloading pyasn1-0.6.0-py2.py3-none-any.whl (85 kB)\r\n",
      "\u001B[2K   \u001B[90m━━━━━━━━━━━━━━━━━━━━━━━━━━━━━━━━━━━━━━━━\u001B[0m \u001B[32m85.3/85.3 kB\u001B[0m \u001B[31m6.1 MB/s\u001B[0m eta \u001B[36m0:00:00\u001B[0m\r\n",
      "\u001B[?25hInstalling collected packages: zipp, pyasn1, protobuf, jmespath, grpcio, cachetools, tiktoken, rsa, pyasn1-modules, proto-plus, importlib-metadata, httpx, googleapis-common-protos, botocore, tokenizers, s3transfer, grpcio-status, google-auth, litellm, google-api-core, boto3, google-ai-generativelanguage, google-generativeai, streaming_assistants\r\n",
      "  Attempting uninstall: httpx\r\n",
      "    Found existing installation: httpx 0.27.0\r\n",
      "    Uninstalling httpx-0.27.0:\r\n",
      "      Successfully uninstalled httpx-0.27.0\r\n",
      "Successfully installed boto3-1.34.86 botocore-1.34.86 cachetools-5.3.3 google-ai-generativelanguage-0.4.0 google-api-core-2.18.0 google-auth-2.29.0 google-generativeai-0.4.1 googleapis-common-protos-1.63.0 grpcio-1.62.1 grpcio-status-1.62.1 httpx-0.26.0 importlib-metadata-7.1.0 jmespath-1.0.1 litellm-1.35.12 proto-plus-1.23.0 protobuf-4.25.3 pyasn1-0.6.0 pyasn1-modules-0.4.0 rsa-4.9 s3transfer-0.10.1 streaming_assistants-0.15.8 tiktoken-0.6.0 tokenizers-0.19.1 zipp-3.18.1\r\n"
     ]
    }
   ],
   "execution_count": 1
  },
  {
   "cell_type": "code",
   "source": [
    "import getpass\n",
    "import os\n",
    "\n",
    "# https://astra.datastax.com/ --> tokens --> administrator user --> generate\n",
    "os.environ['ASTRA_DB_APPLICATION_TOKEN'] = getpass.getpass('Enter your ASTRA_DB_APPLICATION_TOKEN: ')\n",
    "\n",
    "# https://www.perplexity.ai/settings/api  --> generate\n",
    "os.environ['PERPLEXITYAI_API_KEY'] = getpass.getpass('Enter your PERPLEXITYAI_API_KEY: ')\n",
    "\n",
    "# https://platform.openai.com/api-keys --> create new secret key\n",
    "os.environ['OPENAI_API_KEY'] = getpass.getpass('Enter your Open AI Key: ')\n"
   ],
   "metadata": {
    "colab": {
     "base_uri": "https://localhost:8080/"
    },
    "id": "piYZo8KuRKpH",
    "outputId": "7c97161c-c9ec-41ba-ff1c-62f9b377b0fb",
    "ExecuteTime": {
     "end_time": "2024-04-18T04:42:58.028358Z",
     "start_time": "2024-04-18T04:42:44.048328Z"
    }
   },
   "outputs": [],
   "execution_count": 2
  },
  {
   "cell_type": "code",
   "source": [
    "os.environ['ASTRA_DB_APPLICATION_TOKEN'] = \"AstraCS:rGBeZiryvBFQDamWoXOCpkmB:be0224f258a16b51de5ee0ac937fe9b3af97e30f54a3c540f343ff722fa10756\""
   ],
   "metadata": {
    "id": "vYKUoNlkb-eS"
   },
   "execution_count": 9,
   "outputs": []
  },
  {
   "cell_type": "code",
   "source": [
    "from openai import OpenAI\n",
    "from streaming_assistants import patch\n",
    "client = patch(OpenAI())"
   ],
   "metadata": {
    "colab": {
     "base_uri": "https://localhost:8080/"
    },
    "id": "eyzxn-P-uuKU",
    "outputId": "02124adf-e538-486a-b08f-1db09152edef",
    "ExecuteTime": {
     "end_time": "2024-04-18T04:55:26.877347Z",
     "start_time": "2024-04-18T04:55:25.977826Z"
    }
   },
   "outputs": [
    {
     "name": "stdout",
     "output_type": "stream",
     "text": [
      "Patching OpenAI client, it will now communicate to Astra Assistants API: https://open-assistant-ai.astra.datastax.com/v1/\n",
      "Learn more about Astra at: https://docs.datastax.com/en/astra/astra-db-vector/integrations/astra-assistants-api.html\n"
     ]
    }
   ],
   "execution_count": 1
  },
  {
   "cell_type": "code",
   "source": [
    "from agency_swarm import set_openai_client\n",
    "set_openai_client(client)"
   ],
   "metadata": {
    "id": "MZJYVOr7vVIt",
    "ExecuteTime": {
     "end_time": "2024-04-18T04:55:28.580456Z",
     "start_time": "2024-04-18T04:55:28.427069Z"
    }
   },
   "outputs": [],
   "execution_count": 2
  },
  {
   "cell_type": "code",
   "source": [
    "from agency_swarm.tools import BaseTool\n",
    "\n",
    "class TestTool(BaseTool):\n",
    "    \"\"\"\n",
    "    A simple tool that prints 'test'.\n",
    "    \"\"\"\n",
    "\n",
    "    def run(self):\n",
    "        \"\"\"\n",
    "        This method prints the word 'test'.\n",
    "        \"\"\"\n",
    "        print(\"test\")\n",
    "        return \"Test has been printed.\""
   ],
   "metadata": {
    "id": "rwZ7aTHYSd8J",
    "ExecuteTime": {
     "end_time": "2024-04-18T04:55:28.792018Z",
     "start_time": "2024-04-18T04:55:28.789194Z"
    }
   },
   "outputs": [],
   "execution_count": 3
  },
  {
   "metadata": {
    "ExecuteTime": {
     "end_time": "2024-04-18T04:55:29.423857Z",
     "start_time": "2024-04-18T04:55:29.422042Z"
    }
   },
   "cell_type": "code",
   "source": [
    "import sys\n",
    "sys.path.insert(0, '../agency-swarm')"
   ],
   "outputs": [],
   "execution_count": 4
  },
  {
   "metadata": {
    "ExecuteTime": {
     "end_time": "2024-04-18T04:55:30.178117Z",
     "start_time": "2024-04-18T04:55:30.163580Z"
    }
   },
   "cell_type": "code",
   "source": [
    "%load_ext autoreload\n",
    "%autoreload 2"
   ],
   "outputs": [],
   "execution_count": 5
  },
  {
   "cell_type": "code",
   "source": [
    "from agency_swarm import Agent\n",
    "\n",
    "ceo = Agent(name=\"CEO\",\n",
    "            description=\"Responsible for client communication, task planning and management.\",\n",
    "            instructions=\"You are a test agent made for demostration purposes.\",\n",
    "            model=\"perplexity/mixtral-8x7b-instruct\",\n",
    "            files_folder=\"./files\",\n",
    "            tools=[TestTool])"
   ],
   "metadata": {
    "colab": {
     "base_uri": "https://localhost:8080/",
     "height": 408
    },
    "id": "QxXyyuH7vovu",
    "outputId": "f81a523e-ecad-42ca-955b-c7e53b39d3cd",
    "ExecuteTime": {
     "end_time": "2024-04-18T04:55:32.101867Z",
     "start_time": "2024-04-18T04:55:30.814044Z"
    }
   },
   "outputs": [
    {
     "name": "stdout",
     "output_type": "stream",
     "text": [
      "Uploading new file... file_38d86f74-35ae-9a21-fab9-8f86df1bc032_9dc1c01b-6003-5b2d-3b38-6ca1f09b21c5.txt\n"
     ]
    },
    {
     "ename": "PermissionDeniedError",
     "evalue": "Error code: 403 - {'detail': 'Must pass an astradb token in the astra-api-token header'}",
     "output_type": "error",
     "traceback": [
      "\u001B[0;31m---------------------------------------------------------------------------\u001B[0m",
      "\u001B[0;31mPermissionDeniedError\u001B[0m                     Traceback (most recent call last)",
      "Cell \u001B[0;32mIn[6], line 3\u001B[0m\n\u001B[1;32m      1\u001B[0m \u001B[38;5;28;01mfrom\u001B[39;00m \u001B[38;5;21;01magency_swarm\u001B[39;00m \u001B[38;5;28;01mimport\u001B[39;00m Agent\n\u001B[0;32m----> 3\u001B[0m ceo \u001B[38;5;241m=\u001B[39m \u001B[43mAgent\u001B[49m\u001B[43m(\u001B[49m\u001B[43mname\u001B[49m\u001B[38;5;241;43m=\u001B[39;49m\u001B[38;5;124;43m\"\u001B[39;49m\u001B[38;5;124;43mCEO\u001B[39;49m\u001B[38;5;124;43m\"\u001B[39;49m\u001B[43m,\u001B[49m\n\u001B[1;32m      4\u001B[0m \u001B[43m            \u001B[49m\u001B[43mdescription\u001B[49m\u001B[38;5;241;43m=\u001B[39;49m\u001B[38;5;124;43m\"\u001B[39;49m\u001B[38;5;124;43mResponsible for client communication, task planning and management.\u001B[39;49m\u001B[38;5;124;43m\"\u001B[39;49m\u001B[43m,\u001B[49m\n\u001B[1;32m      5\u001B[0m \u001B[43m            \u001B[49m\u001B[43minstructions\u001B[49m\u001B[38;5;241;43m=\u001B[39;49m\u001B[38;5;124;43m\"\u001B[39;49m\u001B[38;5;124;43mYou are a test agent made for demostration purposes.\u001B[39;49m\u001B[38;5;124;43m\"\u001B[39;49m\u001B[43m,\u001B[49m\n\u001B[1;32m      6\u001B[0m \u001B[43m            \u001B[49m\u001B[43mmodel\u001B[49m\u001B[38;5;241;43m=\u001B[39;49m\u001B[38;5;124;43m\"\u001B[39;49m\u001B[38;5;124;43mperplexity/mixtral-8x7b-instruct\u001B[39;49m\u001B[38;5;124;43m\"\u001B[39;49m\u001B[43m,\u001B[49m\n\u001B[1;32m      7\u001B[0m \u001B[43m            \u001B[49m\u001B[43mfiles_folder\u001B[49m\u001B[38;5;241;43m=\u001B[39;49m\u001B[38;5;124;43m\"\u001B[39;49m\u001B[38;5;124;43m./files\u001B[39;49m\u001B[38;5;124;43m\"\u001B[39;49m\u001B[43m,\u001B[49m\n\u001B[1;32m      8\u001B[0m \u001B[43m            \u001B[49m\u001B[43mtools\u001B[49m\u001B[38;5;241;43m=\u001B[39;49m\u001B[43m[\u001B[49m\u001B[43mTestTool\u001B[49m\u001B[43m]\u001B[49m\u001B[43m)\u001B[49m\n",
      "File \u001B[0;32m~/Projects/agency-swarm/agency-swarm/agency_swarm/agents/agent.py:110\u001B[0m, in \u001B[0;36mAgent.__init__\u001B[0;34m(self, id, name, description, instructions, tools, tools_folder, files_folder, schemas_folder, api_headers, api_params, file_ids, metadata, model, validation_attempts)\u001B[0m\n\u001B[1;32m    107\u001B[0m \u001B[38;5;28mself\u001B[39m\u001B[38;5;241m.\u001B[39m_read_instructions()\n\u001B[1;32m    109\u001B[0m \u001B[38;5;66;03m# upload files\u001B[39;00m\n\u001B[0;32m--> 110\u001B[0m \u001B[38;5;28;43mself\u001B[39;49m\u001B[38;5;241;43m.\u001B[39;49m\u001B[43m_upload_files\u001B[49m\u001B[43m(\u001B[49m\u001B[43m)\u001B[49m\n\u001B[1;32m    112\u001B[0m \u001B[38;5;28mself\u001B[39m\u001B[38;5;241m.\u001B[39m_parse_schemas()\n\u001B[1;32m    113\u001B[0m \u001B[38;5;28mself\u001B[39m\u001B[38;5;241m.\u001B[39m_parse_tools_folder()\n",
      "File \u001B[0;32m~/Projects/agency-swarm/agency-swarm/agency_swarm/agents/agent.py:254\u001B[0m, in \u001B[0;36mAgent._upload_files\u001B[0;34m(self)\u001B[0m\n\u001B[1;32m    252\u001B[0m \u001B[38;5;28mprint\u001B[39m(\u001B[38;5;124m\"\u001B[39m\u001B[38;5;124mUploading new file... \u001B[39m\u001B[38;5;124m\"\u001B[39m \u001B[38;5;241m+\u001B[39m os\u001B[38;5;241m.\u001B[39mpath\u001B[38;5;241m.\u001B[39mbasename(f_path))\n\u001B[1;32m    253\u001B[0m \u001B[38;5;28;01mwith\u001B[39;00m \u001B[38;5;28mopen\u001B[39m(f_path, \u001B[38;5;124m'\u001B[39m\u001B[38;5;124mrb\u001B[39m\u001B[38;5;124m'\u001B[39m) \u001B[38;5;28;01mas\u001B[39;00m f:\n\u001B[0;32m--> 254\u001B[0m     file_id \u001B[38;5;241m=\u001B[39m \u001B[38;5;28;43mself\u001B[39;49m\u001B[38;5;241;43m.\u001B[39;49m\u001B[43mclient\u001B[49m\u001B[38;5;241;43m.\u001B[39;49m\u001B[43mwith_options\u001B[49m\u001B[43m(\u001B[49m\n\u001B[1;32m    255\u001B[0m \u001B[43m        \u001B[49m\u001B[43mtimeout\u001B[49m\u001B[38;5;241;43m=\u001B[39;49m\u001B[38;5;241;43m80\u001B[39;49m\u001B[43m \u001B[49m\u001B[38;5;241;43m*\u001B[39;49m\u001B[43m \u001B[49m\u001B[38;5;241;43m1000\u001B[39;49m\u001B[43m,\u001B[49m\n\u001B[1;32m    256\u001B[0m \u001B[43m    \u001B[49m\u001B[43m)\u001B[49m\u001B[38;5;241;43m.\u001B[39;49m\u001B[43mfiles\u001B[49m\u001B[38;5;241;43m.\u001B[39;49m\u001B[43mcreate\u001B[49m\u001B[43m(\u001B[49m\u001B[43mfile\u001B[49m\u001B[38;5;241;43m=\u001B[39;49m\u001B[43mf\u001B[49m\u001B[43m,\u001B[49m\u001B[43m \u001B[49m\u001B[43mpurpose\u001B[49m\u001B[38;5;241;43m=\u001B[39;49m\u001B[38;5;124;43m\"\u001B[39;49m\u001B[38;5;124;43massistants\u001B[39;49m\u001B[38;5;124;43m\"\u001B[39;49m\u001B[43m)\u001B[49m\u001B[38;5;241m.\u001B[39mid\n\u001B[1;32m    257\u001B[0m     \u001B[38;5;28mself\u001B[39m\u001B[38;5;241m.\u001B[39mfile_ids\u001B[38;5;241m.\u001B[39mappend(file_id)\n\u001B[1;32m    258\u001B[0m     f\u001B[38;5;241m.\u001B[39mclose()\n",
      "File \u001B[0;32m~/anaconda3/envs/agency-swarm/lib/python3.10/site-packages/openai/resources/files.py:107\u001B[0m, in \u001B[0;36mFiles.create\u001B[0;34m(self, file, purpose, extra_headers, extra_query, extra_body, timeout)\u001B[0m\n\u001B[1;32m    102\u001B[0m \u001B[38;5;28;01mif\u001B[39;00m files:\n\u001B[1;32m    103\u001B[0m     \u001B[38;5;66;03m# It should be noted that the actual Content-Type header that will be\u001B[39;00m\n\u001B[1;32m    104\u001B[0m     \u001B[38;5;66;03m# sent to the server will contain a `boundary` parameter, e.g.\u001B[39;00m\n\u001B[1;32m    105\u001B[0m     \u001B[38;5;66;03m# multipart/form-data; boundary=---abc--\u001B[39;00m\n\u001B[1;32m    106\u001B[0m     extra_headers \u001B[38;5;241m=\u001B[39m {\u001B[38;5;124m\"\u001B[39m\u001B[38;5;124mContent-Type\u001B[39m\u001B[38;5;124m\"\u001B[39m: \u001B[38;5;124m\"\u001B[39m\u001B[38;5;124mmultipart/form-data\u001B[39m\u001B[38;5;124m\"\u001B[39m, \u001B[38;5;241m*\u001B[39m\u001B[38;5;241m*\u001B[39m(extra_headers \u001B[38;5;129;01mor\u001B[39;00m {})}\n\u001B[0;32m--> 107\u001B[0m \u001B[38;5;28;01mreturn\u001B[39;00m \u001B[38;5;28;43mself\u001B[39;49m\u001B[38;5;241;43m.\u001B[39;49m\u001B[43m_post\u001B[49m\u001B[43m(\u001B[49m\n\u001B[1;32m    108\u001B[0m \u001B[43m    \u001B[49m\u001B[38;5;124;43m\"\u001B[39;49m\u001B[38;5;124;43m/files\u001B[39;49m\u001B[38;5;124;43m\"\u001B[39;49m\u001B[43m,\u001B[49m\n\u001B[1;32m    109\u001B[0m \u001B[43m    \u001B[49m\u001B[43mbody\u001B[49m\u001B[38;5;241;43m=\u001B[39;49m\u001B[43mmaybe_transform\u001B[49m\u001B[43m(\u001B[49m\u001B[43mbody\u001B[49m\u001B[43m,\u001B[49m\u001B[43m \u001B[49m\u001B[43mfile_create_params\u001B[49m\u001B[38;5;241;43m.\u001B[39;49m\u001B[43mFileCreateParams\u001B[49m\u001B[43m)\u001B[49m\u001B[43m,\u001B[49m\n\u001B[1;32m    110\u001B[0m \u001B[43m    \u001B[49m\u001B[43mfiles\u001B[49m\u001B[38;5;241;43m=\u001B[39;49m\u001B[43mfiles\u001B[49m\u001B[43m,\u001B[49m\n\u001B[1;32m    111\u001B[0m \u001B[43m    \u001B[49m\u001B[43moptions\u001B[49m\u001B[38;5;241;43m=\u001B[39;49m\u001B[43mmake_request_options\u001B[49m\u001B[43m(\u001B[49m\n\u001B[1;32m    112\u001B[0m \u001B[43m        \u001B[49m\u001B[43mextra_headers\u001B[49m\u001B[38;5;241;43m=\u001B[39;49m\u001B[43mextra_headers\u001B[49m\u001B[43m,\u001B[49m\u001B[43m \u001B[49m\u001B[43mextra_query\u001B[49m\u001B[38;5;241;43m=\u001B[39;49m\u001B[43mextra_query\u001B[49m\u001B[43m,\u001B[49m\u001B[43m \u001B[49m\u001B[43mextra_body\u001B[49m\u001B[38;5;241;43m=\u001B[39;49m\u001B[43mextra_body\u001B[49m\u001B[43m,\u001B[49m\u001B[43m \u001B[49m\u001B[43mtimeout\u001B[49m\u001B[38;5;241;43m=\u001B[39;49m\u001B[43mtimeout\u001B[49m\n\u001B[1;32m    113\u001B[0m \u001B[43m    \u001B[49m\u001B[43m)\u001B[49m\u001B[43m,\u001B[49m\n\u001B[1;32m    114\u001B[0m \u001B[43m    \u001B[49m\u001B[43mcast_to\u001B[49m\u001B[38;5;241;43m=\u001B[39;49m\u001B[43mFileObject\u001B[49m\u001B[43m,\u001B[49m\n\u001B[1;32m    115\u001B[0m \u001B[43m\u001B[49m\u001B[43m)\u001B[49m\n",
      "File \u001B[0;32m~/anaconda3/envs/agency-swarm/lib/python3.10/site-packages/openai/_base_client.py:1233\u001B[0m, in \u001B[0;36mSyncAPIClient.post\u001B[0;34m(self, path, cast_to, body, options, files, stream, stream_cls)\u001B[0m\n\u001B[1;32m   1219\u001B[0m \u001B[38;5;28;01mdef\u001B[39;00m \u001B[38;5;21mpost\u001B[39m(\n\u001B[1;32m   1220\u001B[0m     \u001B[38;5;28mself\u001B[39m,\n\u001B[1;32m   1221\u001B[0m     path: \u001B[38;5;28mstr\u001B[39m,\n\u001B[0;32m   (...)\u001B[0m\n\u001B[1;32m   1228\u001B[0m     stream_cls: \u001B[38;5;28mtype\u001B[39m[_StreamT] \u001B[38;5;241m|\u001B[39m \u001B[38;5;28;01mNone\u001B[39;00m \u001B[38;5;241m=\u001B[39m \u001B[38;5;28;01mNone\u001B[39;00m,\n\u001B[1;32m   1229\u001B[0m ) \u001B[38;5;241m-\u001B[39m\u001B[38;5;241m>\u001B[39m ResponseT \u001B[38;5;241m|\u001B[39m _StreamT:\n\u001B[1;32m   1230\u001B[0m     opts \u001B[38;5;241m=\u001B[39m FinalRequestOptions\u001B[38;5;241m.\u001B[39mconstruct(\n\u001B[1;32m   1231\u001B[0m         method\u001B[38;5;241m=\u001B[39m\u001B[38;5;124m\"\u001B[39m\u001B[38;5;124mpost\u001B[39m\u001B[38;5;124m\"\u001B[39m, url\u001B[38;5;241m=\u001B[39mpath, json_data\u001B[38;5;241m=\u001B[39mbody, files\u001B[38;5;241m=\u001B[39mto_httpx_files(files), \u001B[38;5;241m*\u001B[39m\u001B[38;5;241m*\u001B[39moptions\n\u001B[1;32m   1232\u001B[0m     )\n\u001B[0;32m-> 1233\u001B[0m     \u001B[38;5;28;01mreturn\u001B[39;00m cast(ResponseT, \u001B[38;5;28;43mself\u001B[39;49m\u001B[38;5;241;43m.\u001B[39;49m\u001B[43mrequest\u001B[49m\u001B[43m(\u001B[49m\u001B[43mcast_to\u001B[49m\u001B[43m,\u001B[49m\u001B[43m \u001B[49m\u001B[43mopts\u001B[49m\u001B[43m,\u001B[49m\u001B[43m \u001B[49m\u001B[43mstream\u001B[49m\u001B[38;5;241;43m=\u001B[39;49m\u001B[43mstream\u001B[49m\u001B[43m,\u001B[49m\u001B[43m \u001B[49m\u001B[43mstream_cls\u001B[49m\u001B[38;5;241;43m=\u001B[39;49m\u001B[43mstream_cls\u001B[49m\u001B[43m)\u001B[49m)\n",
      "File \u001B[0;32m~/anaconda3/envs/agency-swarm/lib/python3.10/site-packages/openai/_base_client.py:922\u001B[0m, in \u001B[0;36mSyncAPIClient.request\u001B[0;34m(self, cast_to, options, remaining_retries, stream, stream_cls)\u001B[0m\n\u001B[1;32m    913\u001B[0m \u001B[38;5;28;01mdef\u001B[39;00m \u001B[38;5;21mrequest\u001B[39m(\n\u001B[1;32m    914\u001B[0m     \u001B[38;5;28mself\u001B[39m,\n\u001B[1;32m    915\u001B[0m     cast_to: Type[ResponseT],\n\u001B[0;32m   (...)\u001B[0m\n\u001B[1;32m    920\u001B[0m     stream_cls: \u001B[38;5;28mtype\u001B[39m[_StreamT] \u001B[38;5;241m|\u001B[39m \u001B[38;5;28;01mNone\u001B[39;00m \u001B[38;5;241m=\u001B[39m \u001B[38;5;28;01mNone\u001B[39;00m,\n\u001B[1;32m    921\u001B[0m ) \u001B[38;5;241m-\u001B[39m\u001B[38;5;241m>\u001B[39m ResponseT \u001B[38;5;241m|\u001B[39m _StreamT:\n\u001B[0;32m--> 922\u001B[0m     \u001B[38;5;28;01mreturn\u001B[39;00m \u001B[38;5;28;43mself\u001B[39;49m\u001B[38;5;241;43m.\u001B[39;49m\u001B[43m_request\u001B[49m\u001B[43m(\u001B[49m\n\u001B[1;32m    923\u001B[0m \u001B[43m        \u001B[49m\u001B[43mcast_to\u001B[49m\u001B[38;5;241;43m=\u001B[39;49m\u001B[43mcast_to\u001B[49m\u001B[43m,\u001B[49m\n\u001B[1;32m    924\u001B[0m \u001B[43m        \u001B[49m\u001B[43moptions\u001B[49m\u001B[38;5;241;43m=\u001B[39;49m\u001B[43moptions\u001B[49m\u001B[43m,\u001B[49m\n\u001B[1;32m    925\u001B[0m \u001B[43m        \u001B[49m\u001B[43mstream\u001B[49m\u001B[38;5;241;43m=\u001B[39;49m\u001B[43mstream\u001B[49m\u001B[43m,\u001B[49m\n\u001B[1;32m    926\u001B[0m \u001B[43m        \u001B[49m\u001B[43mstream_cls\u001B[49m\u001B[38;5;241;43m=\u001B[39;49m\u001B[43mstream_cls\u001B[49m\u001B[43m,\u001B[49m\n\u001B[1;32m    927\u001B[0m \u001B[43m        \u001B[49m\u001B[43mremaining_retries\u001B[49m\u001B[38;5;241;43m=\u001B[39;49m\u001B[43mremaining_retries\u001B[49m\u001B[43m,\u001B[49m\n\u001B[1;32m    928\u001B[0m \u001B[43m    \u001B[49m\u001B[43m)\u001B[49m\n",
      "File \u001B[0;32m~/anaconda3/envs/agency-swarm/lib/python3.10/site-packages/openai/_base_client.py:1013\u001B[0m, in \u001B[0;36mSyncAPIClient._request\u001B[0;34m(self, cast_to, options, remaining_retries, stream, stream_cls)\u001B[0m\n\u001B[1;32m   1010\u001B[0m         err\u001B[38;5;241m.\u001B[39mresponse\u001B[38;5;241m.\u001B[39mread()\n\u001B[1;32m   1012\u001B[0m     log\u001B[38;5;241m.\u001B[39mdebug(\u001B[38;5;124m\"\u001B[39m\u001B[38;5;124mRe-raising status error\u001B[39m\u001B[38;5;124m\"\u001B[39m)\n\u001B[0;32m-> 1013\u001B[0m     \u001B[38;5;28;01mraise\u001B[39;00m \u001B[38;5;28mself\u001B[39m\u001B[38;5;241m.\u001B[39m_make_status_error_from_response(err\u001B[38;5;241m.\u001B[39mresponse) \u001B[38;5;28;01mfrom\u001B[39;00m \u001B[38;5;28;01mNone\u001B[39;00m\n\u001B[1;32m   1015\u001B[0m \u001B[38;5;28;01mreturn\u001B[39;00m \u001B[38;5;28mself\u001B[39m\u001B[38;5;241m.\u001B[39m_process_response(\n\u001B[1;32m   1016\u001B[0m     cast_to\u001B[38;5;241m=\u001B[39mcast_to,\n\u001B[1;32m   1017\u001B[0m     options\u001B[38;5;241m=\u001B[39moptions,\n\u001B[0;32m   (...)\u001B[0m\n\u001B[1;32m   1020\u001B[0m     stream_cls\u001B[38;5;241m=\u001B[39mstream_cls,\n\u001B[1;32m   1021\u001B[0m )\n",
      "\u001B[0;31mPermissionDeniedError\u001B[0m: Error code: 403 - {'detail': 'Must pass an astradb token in the astra-api-token header'}"
     ]
    }
   ],
   "execution_count": 6
  },
  {
   "cell_type": "code",
   "source": [
    "from agency_swarm import Agency\n",
    "\n",
    "agency = Agency([\n",
    "    ceo,\n",
    "])"
   ],
   "metadata": {
    "id": "_aN9CU6GQ-Ga"
   },
   "execution_count": 15,
   "outputs": []
  },
  {
   "cell_type": "code",
   "source": [
    "agency.demo_gradio(height=900)"
   ],
   "metadata": {
    "colab": {
     "base_uri": "https://localhost:8080/",
     "height": 1000
    },
    "id": "PPedd_AcRXhE",
    "outputId": "7bcb3859-4ae6-4de9-d582-1cdff2ddf9f3"
   },
   "execution_count": 17,
   "outputs": [
    {
     "output_type": "stream",
     "name": "stdout",
     "text": [
      "Setting queue=True in a Colab notebook requires sharing enabled. Setting `share=True` (you can turn this off by setting `share=False` in `launch()` explicitly).\n",
      "\n",
      "Colab notebook detected. To show errors in colab notebook, set debug=True in launch()\n",
      "Running on public URL: https://a0e384ffb1f3ca8df7.gradio.live\n",
      "\n",
      "This share link expires in 72 hours. For free permanent hosting and GPU upgrades, run `gradio deploy` from Terminal to deploy to Spaces (https://huggingface.co/spaces)\n"
     ]
    },
    {
     "output_type": "display_data",
     "data": {
      "text/plain": [
       "<IPython.core.display.HTML object>"
      ],
      "text/html": [
       "<div><iframe src=\"https://a0e384ffb1f3ca8df7.gradio.live\" width=\"100%\" height=\"500\" allow=\"autoplay; camera; microphone; clipboard-read; clipboard-write;\" frameborder=\"0\" allowfullscreen></iframe></div>"
      ]
     },
     "metadata": {}
    },
    {
     "output_type": "execute_result",
     "data": {
      "text/plain": [
       "Gradio Blocks instance: 6 backend functions\n",
       "-------------------------------------------\n",
       "fn_index=0\n",
       " inputs:\n",
       " |-<gradio.components.textbox.Textbox object at 0x78082ed075e0>\n",
       " |-<gradio.components.chatbot.Chatbot object at 0x78082ed07940>\n",
       " outputs:\n",
       " |-<gradio.components.textbox.Textbox object at 0x78082ed075e0>\n",
       " |-<gradio.components.chatbot.Chatbot object at 0x78082ed07940>\n",
       "fn_index=1\n",
       " inputs:\n",
       " |-<gradio.components.textbox.Textbox object at 0x78082ed075e0>\n",
       " |-<gradio.components.chatbot.Chatbot object at 0x78082ed07940>\n",
       " outputs:\n",
       " |-<gradio.components.textbox.Textbox object at 0x78082ed075e0>\n",
       " |-<gradio.components.chatbot.Chatbot object at 0x78082ed07940>\n",
       "fn_index=2\n",
       " inputs:\n",
       " |-<gradio.components.dropdown.Dropdown object at 0x78082ed07670>\n",
       " outputs:\n",
       "fn_index=3\n",
       " inputs:\n",
       " |-<gradio.templates.Files object at 0x78082ed3fb20>\n",
       " outputs:\n",
       "fn_index=4\n",
       " inputs:\n",
       " |-<gradio.components.textbox.Textbox object at 0x78082ed075e0>\n",
       " |-<gradio.components.chatbot.Chatbot object at 0x78082ed07940>\n",
       " outputs:\n",
       " |-<gradio.components.textbox.Textbox object at 0x78082ed075e0>\n",
       " |-<gradio.components.chatbot.Chatbot object at 0x78082ed07940>\n",
       "fn_index=5\n",
       " inputs:\n",
       " |-<gradio.components.textbox.Textbox object at 0x78082ed075e0>\n",
       " |-<gradio.components.chatbot.Chatbot object at 0x78082ed07940>\n",
       " outputs:\n",
       " |-<gradio.components.textbox.Textbox object at 0x78082ed075e0>\n",
       " |-<gradio.components.chatbot.Chatbot object at 0x78082ed07940>"
      ]
     },
     "metadata": {},
     "execution_count": 17
    }
   ]
  },
  {
   "cell_type": "code",
   "source": [],
   "metadata": {
    "id": "7r29O7ApSpUq"
   },
   "execution_count": null,
   "outputs": []
  }
 ]
}
